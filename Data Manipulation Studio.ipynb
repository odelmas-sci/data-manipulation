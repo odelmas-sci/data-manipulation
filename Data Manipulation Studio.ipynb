{
 "cells": [
  {
   "cell_type": "markdown",
   "id": "1894ccac",
   "metadata": {},
   "source": [
    "# Data Manipulation Studio\n",
    "\n",
    "For this studio, we will revisit our California farmers looking for advice on growing pumpkins and the same [pumpkins dataset](https://www.kaggle.com/usda/a-year-of-pumpkin-prices) as provided by the U.S. Department of Agriculture. You may have to clean data in the process of data manipulation, so feel free to pull up your notebook from the last class's studio.\n",
    "\n",
    "We will now be focusing our attention on a different region in the United States, the Northeast. When you open up the `dataset` folder, you will have 13 CSVs, including the San Francisco and Los Angeles data from the last lesson. The 13 CSVs are each a different terminal market in the United States.\n",
    "\n",
    "## Getting Started\n",
    "\n",
    "Import the CSVs for each of the following cities: Baltimore, Boston, New York, and Philadelphia. Set up a dataframe for each city."
   ]
  },
  {
   "cell_type": "code",
   "execution_count": 1,
   "id": "66c9a7e7",
   "metadata": {},
   "outputs": [],
   "source": [
    "# Import the necessary libraries and CSVs. Make some dataframes!\n",
    "import pandas as pd \n",
    "import numpy as np"
   ]
  },
  {
   "cell_type": "markdown",
   "id": "6cfda42f",
   "metadata": {},
   "source": [
    "## Clean Your Data\n",
    "\n",
    "In the last lesson, we cleaned the data to related to San Francisco. Pull up your notebook from the last lesson and use your cleaning skills to clean the dataframes as necessary."
   ]
  },
  {
   "cell_type": "code",
   "execution_count": 2,
   "id": "98abc290",
   "metadata": {},
   "outputs": [],
   "source": [
    "# Clean your data here!\n",
    "balt = pd.read_csv(\"dataset/baltimore_9-24-2016_9-30-2017.csv\")\n",
    "bost = pd.read_csv(\"dataset/boston_9-24-2016_9-30-2017.csv\")\n",
    "ny = pd.read_csv(\"dataset/new-york_9-24-2016_9-30-2017.csv\")\n",
    "phil = pd.read_csv(\"dataset/philadelphia_9-24-2016_9-30-2017.csv\")"
   ]
  },
  {
   "cell_type": "code",
   "execution_count": 3,
   "id": "7b7d81d7",
   "metadata": {},
   "outputs": [
    {
     "name": "stdout",
     "output_type": "stream",
     "text": [
      "Baltimore: (153, 25) : (153, 25)\n",
      "Boston (352, 25): (352, 25)\n",
      "New York (112, 25): (112, 25)\n",
      "Philidelphia (57, 25): (57, 25)\n"
     ]
    }
   ],
   "source": [
    "#drop duplicates\n",
    "balt_drop = balt.drop_duplicates()\n",
    "bost_drop = bost.drop_duplicates()\n",
    "ny_drop = ny.drop_duplicates()\n",
    "phil_drop = phil.drop_duplicates()\n",
    "print(f\"Baltimore: {balt.shape} : {balt_drop.shape}\\nBoston {bost.shape}: {bost_drop.shape}\\nNew York {ny.shape}: {ny_drop.shape}\\nPhilidelphia {phil.shape}: {phil_drop.shape}\")"
   ]
  },
  {
   "cell_type": "code",
   "execution_count": 4,
   "id": "9d4daaf0",
   "metadata": {},
   "outputs": [
    {
     "name": "stdout",
     "output_type": "stream",
     "text": [
      "Commodity Name - 0% missing\n",
      "City Name - 0% missing\n",
      "Type - 100% missing\n",
      "Package - 0% missing\n",
      "Variety - 1% missing\n",
      "Sub Variety - 84% missing\n",
      "Grade - 100% missing\n",
      "Date - 0% missing\n",
      "Low Price - 0% missing\n",
      "High Price - 0% missing\n",
      "Mostly Low - 0% missing\n",
      "Mostly High - 0% missing\n",
      "Origin - 3% missing\n",
      "Origin District - 100% missing\n",
      "Item Size - 16% missing\n",
      "Color - 80% missing\n",
      "Environment - 100% missing\n",
      "Unit of Sale - 84% missing\n",
      "Quality - 100% missing\n",
      "Condition - 100% missing\n",
      "Appearance - 100% missing\n",
      "Storage - 100% missing\n",
      "Crop - 100% missing\n",
      "Repack - 0% missing\n",
      "Trans Mode - 100% missing\n"
     ]
    }
   ],
   "source": [
    "for col in balt.columns:\n",
    "    pct_missing = np.mean(balt[col].isnull())\n",
    "    print(f'{col} - {round(pct_missing*100)}% missing')"
   ]
  },
  {
   "cell_type": "code",
   "execution_count": 5,
   "id": "f5af08ce",
   "metadata": {},
   "outputs": [
    {
     "name": "stdout",
     "output_type": "stream",
     "text": [
      "(153, 25): (153, 12)\n"
     ]
    },
    {
     "data": {
      "text/html": [
       "<div>\n",
       "<style scoped>\n",
       "    .dataframe tbody tr th:only-of-type {\n",
       "        vertical-align: middle;\n",
       "    }\n",
       "\n",
       "    .dataframe tbody tr th {\n",
       "        vertical-align: top;\n",
       "    }\n",
       "\n",
       "    .dataframe thead th {\n",
       "        text-align: right;\n",
       "    }\n",
       "</style>\n",
       "<table border=\"1\" class=\"dataframe\">\n",
       "  <thead>\n",
       "    <tr style=\"text-align: right;\">\n",
       "      <th></th>\n",
       "      <th>Commodity Name</th>\n",
       "      <th>City Name</th>\n",
       "      <th>Package</th>\n",
       "      <th>Variety</th>\n",
       "      <th>Date</th>\n",
       "      <th>Low Price</th>\n",
       "      <th>High Price</th>\n",
       "      <th>Mostly Low</th>\n",
       "      <th>Mostly High</th>\n",
       "      <th>Origin</th>\n",
       "      <th>Item Size</th>\n",
       "      <th>Repack</th>\n",
       "    </tr>\n",
       "  </thead>\n",
       "  <tbody>\n",
       "    <tr>\n",
       "      <th>0</th>\n",
       "      <td>PUMPKINS</td>\n",
       "      <td>BALTIMORE</td>\n",
       "      <td>24 inch bins</td>\n",
       "      <td>NaN</td>\n",
       "      <td>04/29/2017</td>\n",
       "      <td>270</td>\n",
       "      <td>280.0</td>\n",
       "      <td>270</td>\n",
       "      <td>280.0</td>\n",
       "      <td>NaN</td>\n",
       "      <td>lge</td>\n",
       "      <td>E</td>\n",
       "    </tr>\n",
       "    <tr>\n",
       "      <th>1</th>\n",
       "      <td>PUMPKINS</td>\n",
       "      <td>BALTIMORE</td>\n",
       "      <td>24 inch bins</td>\n",
       "      <td>NaN</td>\n",
       "      <td>05/06/2017</td>\n",
       "      <td>270</td>\n",
       "      <td>280.0</td>\n",
       "      <td>270</td>\n",
       "      <td>280.0</td>\n",
       "      <td>NaN</td>\n",
       "      <td>lge</td>\n",
       "      <td>E</td>\n",
       "    </tr>\n",
       "    <tr>\n",
       "      <th>2</th>\n",
       "      <td>PUMPKINS</td>\n",
       "      <td>BALTIMORE</td>\n",
       "      <td>24 inch bins</td>\n",
       "      <td>HOWDEN TYPE</td>\n",
       "      <td>09/24/2016</td>\n",
       "      <td>160</td>\n",
       "      <td>160.0</td>\n",
       "      <td>160</td>\n",
       "      <td>160.0</td>\n",
       "      <td>DELAWARE</td>\n",
       "      <td>med</td>\n",
       "      <td>N</td>\n",
       "    </tr>\n",
       "    <tr>\n",
       "      <th>3</th>\n",
       "      <td>PUMPKINS</td>\n",
       "      <td>BALTIMORE</td>\n",
       "      <td>24 inch bins</td>\n",
       "      <td>HOWDEN TYPE</td>\n",
       "      <td>09/24/2016</td>\n",
       "      <td>160</td>\n",
       "      <td>160.0</td>\n",
       "      <td>160</td>\n",
       "      <td>160.0</td>\n",
       "      <td>VIRGINIA</td>\n",
       "      <td>med</td>\n",
       "      <td>N</td>\n",
       "    </tr>\n",
       "    <tr>\n",
       "      <th>4</th>\n",
       "      <td>PUMPKINS</td>\n",
       "      <td>BALTIMORE</td>\n",
       "      <td>24 inch bins</td>\n",
       "      <td>HOWDEN TYPE</td>\n",
       "      <td>11/05/2016</td>\n",
       "      <td>90</td>\n",
       "      <td>100.0</td>\n",
       "      <td>90</td>\n",
       "      <td>100.0</td>\n",
       "      <td>MARYLAND</td>\n",
       "      <td>lge</td>\n",
       "      <td>N</td>\n",
       "    </tr>\n",
       "  </tbody>\n",
       "</table>\n",
       "</div>"
      ],
      "text/plain": [
       "  Commodity Name  City Name       Package      Variety        Date  Low Price  \\\n",
       "0       PUMPKINS  BALTIMORE  24 inch bins          NaN  04/29/2017        270   \n",
       "1       PUMPKINS  BALTIMORE  24 inch bins          NaN  05/06/2017        270   \n",
       "2       PUMPKINS  BALTIMORE  24 inch bins  HOWDEN TYPE  09/24/2016        160   \n",
       "3       PUMPKINS  BALTIMORE  24 inch bins  HOWDEN TYPE  09/24/2016        160   \n",
       "4       PUMPKINS  BALTIMORE  24 inch bins  HOWDEN TYPE  11/05/2016         90   \n",
       "\n",
       "   High Price  Mostly Low  Mostly High    Origin Item Size Repack  \n",
       "0       280.0         270        280.0       NaN       lge      E  \n",
       "1       280.0         270        280.0       NaN       lge      E  \n",
       "2       160.0         160        160.0  DELAWARE       med      N  \n",
       "3       160.0         160        160.0  VIRGINIA       med      N  \n",
       "4       100.0          90        100.0  MARYLAND       lge      N  "
      ]
     },
     "execution_count": 5,
     "metadata": {},
     "output_type": "execute_result"
    }
   ],
   "source": [
    "balt_missing_70 = balt[balt.columns[(balt.isna().mean()*100 >= 70)]] \n",
    "balt_2 = balt.drop(balt_missing_70, axis = 1)\n",
    "print(f\"{balt.shape}: {balt_2.shape}\")\n",
    "balt_2.head()"
   ]
  },
  {
   "cell_type": "code",
   "execution_count": 6,
   "id": "996d0a4b",
   "metadata": {},
   "outputs": [
    {
     "name": "stdout",
     "output_type": "stream",
     "text": [
      "Commodity Name - 0% missing\n",
      "City Name - 0% missing\n",
      "Type - 100% missing\n",
      "Package - 0% missing\n",
      "Variety - 0% missing\n",
      "Sub Variety - 92% missing\n",
      "Grade - 100% missing\n",
      "Date - 0% missing\n",
      "Low Price - 0% missing\n",
      "High Price - 0% missing\n",
      "Mostly Low - 0% missing\n",
      "Mostly High - 0% missing\n",
      "Origin - 0% missing\n",
      "Origin District - 81% missing\n",
      "Item Size - 1% missing\n",
      "Color - 14% missing\n",
      "Environment - 100% missing\n",
      "Unit of Sale - 87% missing\n",
      "Quality - 100% missing\n",
      "Condition - 100% missing\n",
      "Appearance - 100% missing\n",
      "Storage - 100% missing\n",
      "Crop - 100% missing\n",
      "Repack - 0% missing\n",
      "Trans Mode - 100% missing\n",
      "(352, 25): (352, 13)\n"
     ]
    }
   ],
   "source": [
    "for col in bost.columns:\n",
    "    pct_missing = np.mean(bost[col].isnull())\n",
    "    print(f'{col} - {round(pct_missing*100)}% missing')\n",
    "bost_missing_70 = bost[bost.columns[(bost.isna().mean()*100 >= 70)]] \n",
    "bost_2 = bost.drop(bost_missing_70, axis = 1)\n",
    "print(f\"{bost.shape}: {bost_2.shape}\")"
   ]
  },
  {
   "cell_type": "code",
   "execution_count": 7,
   "id": "23199476",
   "metadata": {},
   "outputs": [
    {
     "name": "stdout",
     "output_type": "stream",
     "text": [
      "Commodity Name - 0% missing\n",
      "City Name - 0% missing\n",
      "Type - 100% missing\n",
      "Package - 0% missing\n",
      "Variety - 0% missing\n",
      "Sub Variety - 84% missing\n",
      "Grade - 100% missing\n",
      "Date - 0% missing\n",
      "Low Price - 0% missing\n",
      "High Price - 0% missing\n",
      "Mostly Low - 0% missing\n",
      "Mostly High - 0% missing\n",
      "Origin - 0% missing\n",
      "Origin District - 87% missing\n",
      "Item Size - 7% missing\n",
      "Color - 81% missing\n",
      "Environment - 100% missing\n",
      "Unit of Sale - 78% missing\n",
      "Quality - 100% missing\n",
      "Condition - 100% missing\n",
      "Appearance - 100% missing\n",
      "Storage - 100% missing\n",
      "Crop - 100% missing\n",
      "Repack - 0% missing\n",
      "Trans Mode - 100% missing\n",
      "(112, 25): (112, 12)\n"
     ]
    }
   ],
   "source": [
    "for col in ny.columns:\n",
    "    pct_missing = np.mean(ny[col].isnull())\n",
    "    print(f'{col} - {round(pct_missing*100)}% missing')\n",
    "ny_missing_70 = ny[ny.columns[(ny.isna().mean()*100 >= 70)]] \n",
    "ny_2 = ny.drop(ny_missing_70, axis = 1)\n",
    "print(f\"{ny.shape}: {ny_2.shape}\")"
   ]
  },
  {
   "cell_type": "code",
   "execution_count": 8,
   "id": "18d22a30",
   "metadata": {},
   "outputs": [
    {
     "name": "stdout",
     "output_type": "stream",
     "text": [
      "Commodity Name - 0% missing\n",
      "City Name - 0% missing\n",
      "Type - 100% missing\n",
      "Package - 0% missing\n",
      "Variety - 0% missing\n",
      "Sub Variety - 79% missing\n",
      "Grade - 100% missing\n",
      "Date - 0% missing\n",
      "Low Price - 0% missing\n",
      "High Price - 0% missing\n",
      "Mostly Low - 0% missing\n",
      "Mostly High - 0% missing\n",
      "Origin - 0% missing\n",
      "Origin District - 100% missing\n",
      "Item Size - 21% missing\n",
      "Color - 100% missing\n",
      "Environment - 100% missing\n",
      "Unit of Sale - 81% missing\n",
      "Quality - 100% missing\n",
      "Condition - 100% missing\n",
      "Appearance - 100% missing\n",
      "Storage - 100% missing\n",
      "Crop - 100% missing\n",
      "Repack - 0% missing\n",
      "Trans Mode - 100% missing\n",
      "(57, 25): (57, 12)\n"
     ]
    }
   ],
   "source": [
    "for col in phil.columns:\n",
    "    pct_missing = np.mean(phil[col].isnull())\n",
    "    print(f'{col} - {round(pct_missing*100)}% missing')\n",
    "phil_missing_70 = phil[phil.columns[(phil.isna().mean()*100 >= 70)]] \n",
    "phil_2 = phil.drop(phil_missing_70, axis = 1)\n",
    "print(f\"{phil.shape}: {phil_2.shape}\")"
   ]
  },
  {
   "cell_type": "code",
   "execution_count": null,
   "id": "963db418",
   "metadata": {},
   "outputs": [],
   "source": []
  },
  {
   "cell_type": "markdown",
   "id": "e70b01b9",
   "metadata": {},
   "source": [
    "## Combine Your Data\n",
    "\n",
    "Now that you have four clean sets of data, combine all four into one dataframe that represents the entire Northeast region."
   ]
  },
  {
   "cell_type": "code",
   "execution_count": 16,
   "id": "da059f8a",
   "metadata": {},
   "outputs": [
    {
     "data": {
      "text/plain": [
       "(674, 13)"
      ]
     },
     "execution_count": 16,
     "metadata": {},
     "output_type": "execute_result"
    }
   ],
   "source": [
    "# Combine the four dataframes into one!\n",
    "pumpkins = pd.concat([bost_2, balt_2,ny_2, phil_2]) \n",
    "pumpkins.shape"
   ]
  },
  {
   "cell_type": "markdown",
   "id": "8590082f",
   "metadata": {},
   "source": [
    "## Answer Some Questions\n",
    "\n",
    "Use `groupby()` and `agg()` to answer the following two questions:\n",
    "\n",
    "1. What is the mean low and high prices for each type of unit of sale in the Northeast region? In the last lesson, we learned that a unit of sale could be something like a bin or individually. \n",
    "2. What is the average number of pumpkins for each variety that came into terminal markets for the year by region? Pumpkin varieties include Howden and Fairytale pumpkins."
   ]
  },
  {
   "cell_type": "code",
   "execution_count": 38,
   "id": "c839639a",
   "metadata": {},
   "outputs": [
    {
     "data": {
      "text/html": [
       "<div>\n",
       "<style scoped>\n",
       "    .dataframe tbody tr th:only-of-type {\n",
       "        vertical-align: middle;\n",
       "    }\n",
       "\n",
       "    .dataframe tbody tr th {\n",
       "        vertical-align: top;\n",
       "    }\n",
       "\n",
       "    .dataframe thead th {\n",
       "        text-align: right;\n",
       "    }\n",
       "</style>\n",
       "<table border=\"1\" class=\"dataframe\">\n",
       "  <thead>\n",
       "    <tr style=\"text-align: right;\">\n",
       "      <th></th>\n",
       "      <th>Low Price</th>\n",
       "      <th>High Price</th>\n",
       "      <th>Mostly Low</th>\n",
       "      <th>Mostly High</th>\n",
       "    </tr>\n",
       "    <tr>\n",
       "      <th>Package</th>\n",
       "      <th></th>\n",
       "      <th></th>\n",
       "      <th></th>\n",
       "      <th></th>\n",
       "    </tr>\n",
       "  </thead>\n",
       "  <tbody>\n",
       "    <tr>\n",
       "      <th>1 1/9 bushel cartons</th>\n",
       "      <td>15.875000</td>\n",
       "      <td>16.739583</td>\n",
       "      <td>15.875000</td>\n",
       "      <td>16.489583</td>\n",
       "    </tr>\n",
       "    <tr>\n",
       "      <th>1 1/9 bushel crates</th>\n",
       "      <td>16.058824</td>\n",
       "      <td>16.705882</td>\n",
       "      <td>16.058824</td>\n",
       "      <td>16.058824</td>\n",
       "    </tr>\n",
       "    <tr>\n",
       "      <th>1/2 bushel cartons</th>\n",
       "      <td>16.030928</td>\n",
       "      <td>17.597938</td>\n",
       "      <td>16.092784</td>\n",
       "      <td>16.639175</td>\n",
       "    </tr>\n",
       "    <tr>\n",
       "      <th>24 inch bins</th>\n",
       "      <td>188.005618</td>\n",
       "      <td>202.808989</td>\n",
       "      <td>195.421348</td>\n",
       "      <td>201.994382</td>\n",
       "    </tr>\n",
       "    <tr>\n",
       "      <th>36 inch bins</th>\n",
       "      <td>170.458861</td>\n",
       "      <td>196.550633</td>\n",
       "      <td>177.373418</td>\n",
       "      <td>184.905063</td>\n",
       "    </tr>\n",
       "  </tbody>\n",
       "</table>\n",
       "</div>"
      ],
      "text/plain": [
       "                       Low Price  High Price  Mostly Low  Mostly High\n",
       "Package                                                              \n",
       "1 1/9 bushel cartons   15.875000   16.739583   15.875000    16.489583\n",
       "1 1/9 bushel crates    16.058824   16.705882   16.058824    16.058824\n",
       "1/2 bushel cartons     16.030928   17.597938   16.092784    16.639175\n",
       "24 inch bins          188.005618  202.808989  195.421348   201.994382\n",
       "36 inch bins          170.458861  196.550633  177.373418   184.905063"
      ]
     },
     "execution_count": 38,
     "metadata": {},
     "output_type": "execute_result"
    }
   ],
   "source": [
    "# Put your code here to find the mean low and high prices in the Northeast region for each type of unit of sale.\n",
    "\n",
    "package_bin = pumpkins.groupby(\"Package\").mean()\n",
    "package_bin.head()\n",
    "\n",
    "#package_bin_2 = package_bin.head().agg(\"mean\", numeric_only = True)\n",
    "#package_bin_2"
   ]
  },
  {
   "cell_type": "code",
   "execution_count": 40,
   "id": "b4b23352",
   "metadata": {},
   "outputs": [
    {
     "ename": "KeyError",
     "evalue": "('Low Price', 'High Price')",
     "output_type": "error",
     "traceback": [
      "\u001b[1;31m---------------------------------------------------------------------------\u001b[0m",
      "\u001b[1;31mKeyError\u001b[0m                                  Traceback (most recent call last)",
      "\u001b[1;32m~\\anaconda3\\lib\\site-packages\\pandas\\core\\indexes\\base.py\u001b[0m in \u001b[0;36mget_loc\u001b[1;34m(self, key, method, tolerance)\u001b[0m\n\u001b[0;32m   3628\u001b[0m             \u001b[1;32mtry\u001b[0m\u001b[1;33m:\u001b[0m\u001b[1;33m\u001b[0m\u001b[1;33m\u001b[0m\u001b[0m\n\u001b[1;32m-> 3629\u001b[1;33m                 \u001b[1;32mreturn\u001b[0m \u001b[0mself\u001b[0m\u001b[1;33m.\u001b[0m\u001b[0m_engine\u001b[0m\u001b[1;33m.\u001b[0m\u001b[0mget_loc\u001b[0m\u001b[1;33m(\u001b[0m\u001b[0mcasted_key\u001b[0m\u001b[1;33m)\u001b[0m\u001b[1;33m\u001b[0m\u001b[1;33m\u001b[0m\u001b[0m\n\u001b[0m\u001b[0;32m   3630\u001b[0m             \u001b[1;32mexcept\u001b[0m \u001b[0mKeyError\u001b[0m \u001b[1;32mas\u001b[0m \u001b[0merr\u001b[0m\u001b[1;33m:\u001b[0m\u001b[1;33m\u001b[0m\u001b[1;33m\u001b[0m\u001b[0m\n",
      "\u001b[1;32m~\\anaconda3\\lib\\site-packages\\pandas\\_libs\\index.pyx\u001b[0m in \u001b[0;36mpandas._libs.index.IndexEngine.get_loc\u001b[1;34m()\u001b[0m\n",
      "\u001b[1;32m~\\anaconda3\\lib\\site-packages\\pandas\\_libs\\index.pyx\u001b[0m in \u001b[0;36mpandas._libs.index.IndexEngine.get_loc\u001b[1;34m()\u001b[0m\n",
      "\u001b[1;32mpandas\\_libs\\hashtable_class_helper.pxi\u001b[0m in \u001b[0;36mpandas._libs.hashtable.PyObjectHashTable.get_item\u001b[1;34m()\u001b[0m\n",
      "\u001b[1;32mpandas\\_libs\\hashtable_class_helper.pxi\u001b[0m in \u001b[0;36mpandas._libs.hashtable.PyObjectHashTable.get_item\u001b[1;34m()\u001b[0m\n",
      "\u001b[1;31mKeyError\u001b[0m: ('Low Price', 'High Price')",
      "\nThe above exception was the direct cause of the following exception:\n",
      "\u001b[1;31mKeyError\u001b[0m                                  Traceback (most recent call last)",
      "\u001b[1;32m~\\AppData\\Local\\Temp\\ipykernel_16184\\2707133665.py\u001b[0m in \u001b[0;36m<module>\u001b[1;34m\u001b[0m\n\u001b[0;32m      1\u001b[0m \u001b[1;31m# Put your code here to find the average number of pumpkins coming into terminal markets of each variety.\u001b[0m\u001b[1;33m\u001b[0m\u001b[1;33m\u001b[0m\u001b[0m\n\u001b[1;32m----> 2\u001b[1;33m \u001b[0mpackage_bin_3\u001b[0m \u001b[1;33m=\u001b[0m \u001b[0mpackage_bin\u001b[0m\u001b[1;33m[\u001b[0m\u001b[0mpackage_bin\u001b[0m\u001b[1;33m[\u001b[0m\u001b[1;34m\"Low Price\"\u001b[0m\u001b[1;33m,\u001b[0m \u001b[1;34m\"High Price\"\u001b[0m\u001b[1;33m]\u001b[0m\u001b[1;33m]\u001b[0m\u001b[1;33m\u001b[0m\u001b[1;33m\u001b[0m\u001b[0m\n\u001b[0m\u001b[0;32m      3\u001b[0m \u001b[0mpackage_bin_3\u001b[0m\u001b[1;33m.\u001b[0m\u001b[0mhead\u001b[0m\u001b[1;33m(\u001b[0m\u001b[1;33m)\u001b[0m\u001b[1;33m\u001b[0m\u001b[1;33m\u001b[0m\u001b[0m\n",
      "\u001b[1;32m~\\anaconda3\\lib\\site-packages\\pandas\\core\\frame.py\u001b[0m in \u001b[0;36m__getitem__\u001b[1;34m(self, key)\u001b[0m\n\u001b[0;32m   3503\u001b[0m             \u001b[1;32mif\u001b[0m \u001b[0mself\u001b[0m\u001b[1;33m.\u001b[0m\u001b[0mcolumns\u001b[0m\u001b[1;33m.\u001b[0m\u001b[0mnlevels\u001b[0m \u001b[1;33m>\u001b[0m \u001b[1;36m1\u001b[0m\u001b[1;33m:\u001b[0m\u001b[1;33m\u001b[0m\u001b[1;33m\u001b[0m\u001b[0m\n\u001b[0;32m   3504\u001b[0m                 \u001b[1;32mreturn\u001b[0m \u001b[0mself\u001b[0m\u001b[1;33m.\u001b[0m\u001b[0m_getitem_multilevel\u001b[0m\u001b[1;33m(\u001b[0m\u001b[0mkey\u001b[0m\u001b[1;33m)\u001b[0m\u001b[1;33m\u001b[0m\u001b[1;33m\u001b[0m\u001b[0m\n\u001b[1;32m-> 3505\u001b[1;33m             \u001b[0mindexer\u001b[0m \u001b[1;33m=\u001b[0m \u001b[0mself\u001b[0m\u001b[1;33m.\u001b[0m\u001b[0mcolumns\u001b[0m\u001b[1;33m.\u001b[0m\u001b[0mget_loc\u001b[0m\u001b[1;33m(\u001b[0m\u001b[0mkey\u001b[0m\u001b[1;33m)\u001b[0m\u001b[1;33m\u001b[0m\u001b[1;33m\u001b[0m\u001b[0m\n\u001b[0m\u001b[0;32m   3506\u001b[0m             \u001b[1;32mif\u001b[0m \u001b[0mis_integer\u001b[0m\u001b[1;33m(\u001b[0m\u001b[0mindexer\u001b[0m\u001b[1;33m)\u001b[0m\u001b[1;33m:\u001b[0m\u001b[1;33m\u001b[0m\u001b[1;33m\u001b[0m\u001b[0m\n\u001b[0;32m   3507\u001b[0m                 \u001b[0mindexer\u001b[0m \u001b[1;33m=\u001b[0m \u001b[1;33m[\u001b[0m\u001b[0mindexer\u001b[0m\u001b[1;33m]\u001b[0m\u001b[1;33m\u001b[0m\u001b[1;33m\u001b[0m\u001b[0m\n",
      "\u001b[1;32m~\\anaconda3\\lib\\site-packages\\pandas\\core\\indexes\\base.py\u001b[0m in \u001b[0;36mget_loc\u001b[1;34m(self, key, method, tolerance)\u001b[0m\n\u001b[0;32m   3629\u001b[0m                 \u001b[1;32mreturn\u001b[0m \u001b[0mself\u001b[0m\u001b[1;33m.\u001b[0m\u001b[0m_engine\u001b[0m\u001b[1;33m.\u001b[0m\u001b[0mget_loc\u001b[0m\u001b[1;33m(\u001b[0m\u001b[0mcasted_key\u001b[0m\u001b[1;33m)\u001b[0m\u001b[1;33m\u001b[0m\u001b[1;33m\u001b[0m\u001b[0m\n\u001b[0;32m   3630\u001b[0m             \u001b[1;32mexcept\u001b[0m \u001b[0mKeyError\u001b[0m \u001b[1;32mas\u001b[0m \u001b[0merr\u001b[0m\u001b[1;33m:\u001b[0m\u001b[1;33m\u001b[0m\u001b[1;33m\u001b[0m\u001b[0m\n\u001b[1;32m-> 3631\u001b[1;33m                 \u001b[1;32mraise\u001b[0m \u001b[0mKeyError\u001b[0m\u001b[1;33m(\u001b[0m\u001b[0mkey\u001b[0m\u001b[1;33m)\u001b[0m \u001b[1;32mfrom\u001b[0m \u001b[0merr\u001b[0m\u001b[1;33m\u001b[0m\u001b[1;33m\u001b[0m\u001b[0m\n\u001b[0m\u001b[0;32m   3632\u001b[0m             \u001b[1;32mexcept\u001b[0m \u001b[0mTypeError\u001b[0m\u001b[1;33m:\u001b[0m\u001b[1;33m\u001b[0m\u001b[1;33m\u001b[0m\u001b[0m\n\u001b[0;32m   3633\u001b[0m                 \u001b[1;31m# If we have a listlike key, _check_indexing_error will raise\u001b[0m\u001b[1;33m\u001b[0m\u001b[1;33m\u001b[0m\u001b[0m\n",
      "\u001b[1;31mKeyError\u001b[0m: ('Low Price', 'High Price')"
     ]
    }
   ],
   "source": [
    "# Put your code here to find the average number of pumpkins coming into terminal markets of each variety.\n",
    "package_bin_3 = package_bin[package_bin[\"Low Price\", \"High Price\"]]\n",
    "package_bin_3.head()"
   ]
  },
  {
   "cell_type": "markdown",
   "id": "a2e5cff4",
   "metadata": {},
   "source": [
    "## Bonus Mission\n",
    "\n",
    "Try answering the same questions for the Midwest (Chicago, Detroit, and St. Louis) or the Southeast (Atlanta, Columbia, and Miami) regions."
   ]
  },
  {
   "cell_type": "code",
   "execution_count": 59,
   "id": "1d22b7fd",
   "metadata": {},
   "outputs": [],
   "source": [
    "# Try the bonus mission if you have time!"
   ]
  },
  {
   "cell_type": "code",
   "execution_count": null,
   "id": "09dbc152",
   "metadata": {},
   "outputs": [],
   "source": []
  }
 ],
 "metadata": {
  "kernelspec": {
   "display_name": "Python 3 (ipykernel)",
   "language": "python",
   "name": "python3"
  },
  "language_info": {
   "codemirror_mode": {
    "name": "ipython",
    "version": 3
   },
   "file_extension": ".py",
   "mimetype": "text/x-python",
   "name": "python",
   "nbconvert_exporter": "python",
   "pygments_lexer": "ipython3",
   "version": "3.9.13"
  }
 },
 "nbformat": 4,
 "nbformat_minor": 5
}
